{
  "nbformat": 4,
  "nbformat_minor": 0,
  "metadata": {
    "colab": {
      "provenance": [],
      "authorship_tag": "ABX9TyOwmkwCW9Da4ZrGvjQ50K0B",
      "include_colab_link": true
    },
    "kernelspec": {
      "name": "python3",
      "display_name": "Python 3"
    },
    "language_info": {
      "name": "python"
    }
  },
  "cells": [
    {
      "cell_type": "markdown",
      "metadata": {
        "id": "view-in-github",
        "colab_type": "text"
      },
      "source": [
        "<a href=\"https://colab.research.google.com/github/therogerioos/bootcamp-DIO-SDW2023/blob/main/DesafioDeProjeto.ipynb\" target=\"_parent\"><img src=\"https://colab.research.google.com/assets/colab-badge.svg\" alt=\"Open In Colab\"/></a>"
      ]
    },
    {
      "cell_type": "markdown",
      "source": [
        "Para o devido funcionamento do código abaixo, é necessário importar os arquivos contidos na pasta:\n",
        "\n",
        "**DeParaStatus.csv**\n",
        "\n",
        "**DeParaUF.csv**\n",
        "\n",
        "**baseBrutaContatos.csv**"
      ],
      "metadata": {
        "id": "B5VBf7lqthwa"
      }
    },
    {
      "cell_type": "markdown",
      "source": [
        "**Extração**: Realizando o processo de extração da base bruta de um repositório local, nesse momento, simulado por importar no Google Colab\n"
      ],
      "metadata": {
        "id": "BT_qhayPmISl"
      }
    },
    {
      "cell_type": "code",
      "execution_count": 19,
      "metadata": {
        "id": "YabadjWplxnQ"
      },
      "outputs": [],
      "source": [
        "import pandas as pd\n",
        "\n",
        "# Extraindo a tabela bruta com dados de contato com cliente.\n",
        "# Utilizamos o separador \";\" para manipulação posterior dos dados\n",
        "tabela_base = pd.read_csv('baseBrutaContatos.csv', sep=';')\n"
      ]
    },
    {
      "cell_type": "markdown",
      "source": [
        "**Transformação**: Realizando o processo de transformação e enriquecimento do arquivo carregado, onde será concatenado o DDD com Numero do Telefone, identificado qual o UF pertence o numero, com base no DDD, e o sub-status do contato telefônico."
      ],
      "metadata": {
        "id": "asHQ2wyGnKdI"
      }
    },
    {
      "cell_type": "code",
      "source": [
        "# Importação da tabela comparativa DDD>UF\n",
        "tabela_DDDUF = pd.read_csv('DeParaUF.csv', sep=';')\n",
        "\n",
        "# Importação da tabela comparativa Status>SubStatus\n",
        "tabela_SubStatus = pd.read_csv('DeParaStatus.csv', sep=';')\n",
        "\n",
        "# Processo de tranformação, concatenando DDD com Telefone, tranformando para string\n",
        "tabela_base['DDDTELEFONE'] = tabela_base['DDD'].astype(str) + tabela_base['TELEFONE'].astype(str)\n",
        "\n",
        "# Processo de enriquecimento, incluindo o nome do estado federativo que pertence o número.\n",
        "tabela_base['ESTADO'] = tabela_base['DDD'].map(tabela_DDDUF.set_index('DDDTEL')['ESTADO'])\n",
        "\n",
        "# Processo de enriquecimento, incluindo o nome da UF que pertence o número.\n",
        "tabela_base['UF'] = tabela_base['DDD'].map(tabela_DDDUF.set_index('DDDTEL')['UF'])\n",
        "\n",
        "# Processo de padronização, incluindo o Sub Status com base no Status do contato telefônico\n",
        "tabela_base['SUBSTATUS'] = tabela_base['STATUS'].map(tabela_SubStatus.set_index('STATUSCHAMADA')['SUBSTATUS'])\n",
        "\n",
        "# Processo de separação, mantendo somente as colunas que existem dados condizentes.\n",
        "tabela_tratada = tabela_base[[\"ID\", \"NOME\", \"DDDTELEFONE\", \"ESTADO\", \"UF\", \"STATUS\", \"SUBSTATUS\"]]\n",
        "\n"
      ],
      "metadata": {
        "id": "aCaBrlcsngOf"
      },
      "execution_count": 20,
      "outputs": []
    },
    {
      "cell_type": "markdown",
      "source": [
        "**Carregamento**: Gerando um arquivo .csv, contendo o retorno da transformação"
      ],
      "metadata": {
        "id": "QNNNTef-rdlo"
      }
    },
    {
      "cell_type": "code",
      "source": [
        "# Etapa de carregamento, disponibilizando o arquivo, transformado, enriquecido e melhorado\n",
        "tabela_tratada.to_csv('TabelaTratada.csv', index=False)"
      ],
      "metadata": {
        "id": "bhkfXiHUrnXv"
      },
      "execution_count": 21,
      "outputs": []
    }
  ]
}